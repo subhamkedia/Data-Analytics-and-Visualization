{
 "cells": [
  {
   "cell_type": "markdown",
   "metadata": {
    "collapsed": true
   },
   "source": [
    "## Name - Subham Kedia\n",
    "## UNI - sk4355\n",
    "## Assignment 1"
   ]
  },
  {
   "cell_type": "markdown",
   "metadata": {},
   "source": [
    "<h1>Problem 1: Part 1</h1>"
   ]
  },
  {
   "cell_type": "code",
   "execution_count": 1,
   "metadata": {
    "collapsed": true
   },
   "outputs": [],
   "source": [
    "def preceding(char):\n",
    "    coded_char = ''\n",
    "    temp = ord(char)\n",
    "    if temp>65 and temp<=90:\n",
    "        val = temp-1\n",
    "        coded_char = chr(val)\n",
    "    elif temp>97 and temp<=122:\n",
    "        val = temp-1\n",
    "        coded_char = chr(val)\n",
    "    elif temp==97 or temp==65:\n",
    "        val = temp + 25\n",
    "        coded_char = chr(val)\n",
    "    else:\n",
    "        coded_char = chr(temp)\n",
    "    return coded_char"
   ]
  },
  {
   "cell_type": "code",
   "execution_count": 2,
   "metadata": {},
   "outputs": [
    {
     "name": "stdout",
     "output_type": "stream",
     "text": [
      "z\n",
      "a\n",
      "!\n"
     ]
    }
   ],
   "source": [
    "print(preceding('a')) #Should print z\n",
    "print(preceding('b')) #Should print a\n",
    "print(preceding('!')) #Should print !"
   ]
  },
  {
   "cell_type": "markdown",
   "metadata": {},
   "source": [
    "<h1>Problem 1: Part 2</h1>\n"
   ]
  },
  {
   "cell_type": "code",
   "execution_count": 3,
   "metadata": {
    "collapsed": true
   },
   "outputs": [],
   "source": [
    "def succeeding(char):\n",
    "    coded_char = ''\n",
    "    temp = ord(char)\n",
    "    if temp>=65 and temp<90:\n",
    "        val = temp+1\n",
    "        coded_char = chr(val)\n",
    "    elif temp>=97 and temp<122:\n",
    "        val = temp+1\n",
    "        coded_char = chr(val)\n",
    "    elif temp==90 or temp==122:\n",
    "        val = temp - 25\n",
    "        coded_char = chr(val)\n",
    "    else:\n",
    "        coded_char = chr(temp)\n",
    "    return coded_char    "
   ]
  },
  {
   "cell_type": "code",
   "execution_count": 4,
   "metadata": {},
   "outputs": [
    {
     "name": "stdout",
     "output_type": "stream",
     "text": [
      "a\n",
      "c\n",
      "!\n"
     ]
    }
   ],
   "source": [
    "print(succeeding('z')) #Should print a\n",
    "print(succeeding('b')) #Should print c\n",
    "print(succeeding('!')) #Should print !"
   ]
  },
  {
   "cell_type": "markdown",
   "metadata": {},
   "source": [
    "<h1>Problem 1: Part 3</h1>"
   ]
  },
  {
   "cell_type": "code",
   "execution_count": 5,
   "metadata": {
    "collapsed": true
   },
   "outputs": [],
   "source": [
    "def message_coder(message_string,function):\n",
    "    coded_message = ''\n",
    "    for i in range(0,len(message_string)):\n",
    "        coded_message = coded_message + function(message_string[i])\n",
    "    return coded_message"
   ]
  },
  {
   "cell_type": "markdown",
   "metadata": {},
   "source": [
    "<h3>Test <b>preceding</b> and <b>succeeding</b> and <b>message_coder</h3>"
   ]
  },
  {
   "cell_type": "code",
   "execution_count": 6,
   "metadata": {},
   "outputs": [
    {
     "name": "stdout",
     "output_type": "stream",
     "text": [
      "gdkkn cnkkx ydaqz!\n",
      "ifmmp epmmz afcsb!\n"
     ]
    }
   ],
   "source": [
    "print(message_coder('hello dolly zebra!',preceding))# prints 'gdkkn cnkkx ydaqz!’\n",
    "\n",
    "print(message_coder('hello dolly zebra!',succeeding))# prints 'ifmmp epmmz afcsb!’\n"
   ]
  },
  {
   "cell_type": "markdown",
   "metadata": {},
   "source": [
    "<h1>Problem 2: Word Count</h2>"
   ]
  },
  {
   "cell_type": "code",
   "execution_count": 7,
   "metadata": {
    "collapsed": true
   },
   "outputs": [],
   "source": [
    "def word_distribution(text_string,word_list=[]):\n",
    "    frequency_dict = dict()\n",
    "    temp = text_string.lower()\n",
    "    temp_list = temp.split()\n",
    "    for i in range(0,len(temp_list)):\n",
    "        word = temp_list[i]\n",
    "        if ord(word[-1])>=97 and ord(word[-1])<=122:\n",
    "            word = word\n",
    "        else:\n",
    "            word = word[:-1]\n",
    "        temp_list[i] = word\n",
    "    if len(word_list) == 0:\n",
    "        for j in temp_list:\n",
    "            count1 = temp_list.count(j)\n",
    "            frequency_dict[j] = count1\n",
    "    else:\n",
    "        for x in range(0,len(word_list)):\n",
    "            word_list[x] = word_list[x].lower()\n",
    "        temp2 = word_list\n",
    "        for j in temp2:\n",
    "            count1 = temp_list.count(j)\n",
    "            frequency_dict[j] = count1\n",
    "    return frequency_dict"
   ]
  },
  {
   "cell_type": "markdown",
   "metadata": {},
   "source": [
    "<h3>Test <b>word_distribution</b></h3>\n"
   ]
  },
  {
   "cell_type": "code",
   "execution_count": 8,
   "metadata": {},
   "outputs": [
    {
     "name": "stdout",
     "output_type": "stream",
     "text": [
      "{'hello': 2, 'how': 1, 'are': 1, 'you': 2, 'please': 1, 'say': 1, 'if': 1, 'don’t': 1, 'love': 1, 'me': 1}\n"
     ]
    }
   ],
   "source": [
    "text_string = \"Hello. How are you? Please say hello if you don’t love me!\"\n",
    "print(word_distribution(text_string)) #should print {‘hello’: 2, ‘how’:1, ‘are’:1, ‘you’:2,’please’:1, “don’t”: 1 …}\n"
   ]
  },
  {
   "cell_type": "code",
   "execution_count": 9,
   "metadata": {},
   "outputs": [
    {
     "name": "stdout",
     "output_type": "stream",
     "text": [
      "{'i': 3, 'saw': 1, 'britain': 0}\n"
     ]
    }
   ],
   "source": [
    "text_string = 'I came, I saw, I conquered!'\n",
    "print(word_distribution(text_string,word_list=['I','saw','Britain'])) # prints {‘i’:3,’saw’:1,’britain':0}\n"
   ]
  },
  {
   "cell_type": "markdown",
   "metadata": {
    "collapsed": true
   },
   "source": [
    "<h1>Problem 2: Word Count with multiple punctuation marks</h2>"
   ]
  },
  {
   "cell_type": "code",
   "execution_count": 10,
   "metadata": {
    "collapsed": true
   },
   "outputs": [],
   "source": [
    "def recur(tmp):\n",
    "    if ord(tmp[-1])>=97 and ord(tmp[-1])<=122:\n",
    "        return tmp\n",
    "    else:\n",
    "        tmp = recur(tmp[:-1])\n",
    "        return tmp\n",
    "\n",
    "def word_distribution(text_string,word_list=[]):\n",
    "    frequency_dict = dict()\n",
    "    temp = text_string.lower()\n",
    "    temp_list = temp.split()\n",
    "    for i in range(0,len(temp_list)):\n",
    "        word = temp_list[i]\n",
    "        if ord(word[-1])>=97 and ord(word[-1])<=122:\n",
    "            word = word\n",
    "        else:\n",
    "            word = recur(word)\n",
    "        temp_list[i] = word\n",
    "    if len(word_list) == 0:\n",
    "        for j in temp_list:\n",
    "            count1 = temp_list.count(j)\n",
    "            frequency_dict[j] = count1\n",
    "    else:\n",
    "        for x in range(0,len(word_list)):\n",
    "            word_list[x] = word_list[x].lower()\n",
    "        temp2 = word_list\n",
    "        for j in temp2:\n",
    "            count1 = temp_list.count(j)\n",
    "            frequency_dict[j] = count1\n",
    "    return frequency_dict"
   ]
  },
  {
   "cell_type": "markdown",
   "metadata": {},
   "source": [
    "<h3>Test <b>word_distribution with multiple punctuation marks</b></h3>\n",
    "\n"
   ]
  },
  {
   "cell_type": "code",
   "execution_count": 11,
   "metadata": {},
   "outputs": [
    {
     "name": "stdout",
     "output_type": "stream",
     "text": [
      "{'hello': 2, 'how': 1, 'are': 1, 'you': 2, 'please': 1, 'say': 1, 'if': 1, 'don’t': 1, 'love': 1, 'me': 1}\n"
     ]
    }
   ],
   "source": [
    "text_string = \"Hello... How are you??? Please say hello if you don’t love me!!!!\"\n",
    "print(word_distribution(text_string)) #should print {‘hello’: 2, ‘how’:1, ‘are’:1, ‘you’:2,’please’:1, “don’t”: 1 …}"
   ]
  },
  {
   "cell_type": "code",
   "execution_count": 12,
   "metadata": {},
   "outputs": [
    {
     "name": "stdout",
     "output_type": "stream",
     "text": [
      "{'i': 3, 'saw': 1, 'britain': 0}\n"
     ]
    }
   ],
   "source": [
    "text_string = 'I came,,,, I saw,??? I conquered!!!!'\n",
    "print(word_distribution(text_string,word_list=['I','saw','Britain'])) # prints {‘i’:3,’saw’:1,’britain':0}"
   ]
  },
  {
   "cell_type": "code",
   "execution_count": null,
   "metadata": {
    "collapsed": true
   },
   "outputs": [],
   "source": []
  }
 ],
 "metadata": {
  "kernelspec": {
   "display_name": "Python 3",
   "language": "python",
   "name": "python3"
  },
  "language_info": {
   "codemirror_mode": {
    "name": "ipython",
    "version": 3
   },
   "file_extension": ".py",
   "mimetype": "text/x-python",
   "name": "python",
   "nbconvert_exporter": "python",
   "pygments_lexer": "ipython3",
   "version": "3.6.6"
  }
 },
 "nbformat": 4,
 "nbformat_minor": 2
}
