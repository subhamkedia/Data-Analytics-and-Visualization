{
 "cells": [
  {
   "cell_type": "markdown",
   "metadata": {},
   "source": [
    "<h1>Problem 1: Factorials using numpy</h1>\n",
    "<li><b>prod</b> A numpy function that returns the product of all elements in an array\n",
    "<li><b>cumprod</b> A numpy function on an ndarray of size n that returns an array of size n where each element i is the product of all elements from 0 to i\n"
   ]
  },
  {
   "cell_type": "markdown",
   "metadata": {},
   "source": [
    "## Name-Subham Kedia\n",
    "## UNI-sk4355\n",
    "## Assignment-4b"
   ]
  },
  {
   "cell_type": "markdown",
   "metadata": {},
   "source": [
    "### Imports"
   ]
  },
  {
   "cell_type": "code",
   "execution_count": 1,
   "metadata": {
    "collapsed": true
   },
   "outputs": [],
   "source": [
    "import datetime\n",
    "import numpy as np\n",
    "import pandas as pd\n",
    "%matplotlib inline\n",
    "import pandas_datareader.data as web\n",
    "import fix_yahoo_finance as yf\n",
    "import sys"
   ]
  },
  {
   "cell_type": "code",
   "execution_count": 2,
   "metadata": {},
   "outputs": [
    {
     "data": {
      "text/plain": [
       "720"
      ]
     },
     "execution_count": 2,
     "metadata": {},
     "output_type": "execute_result"
    }
   ],
   "source": [
    "\"\"\"\n",
    "Replace pass with the code that uses ndarray, prod and cumprod \n",
    "to calculate the factorial of n\n",
    "\n",
    "The function should take an integer as an argument and return an integer\n",
    "\n",
    "\"\"\"\n",
    "def factorial(n):\n",
    "    arr = np.arange(1,n+1)\n",
    "    fact = np.prod(arr)\n",
    "    return fact\n",
    "        \n",
    "factorial(6)"
   ]
  },
  {
   "cell_type": "code",
   "execution_count": 3,
   "metadata": {},
   "outputs": [
    {
     "data": {
      "text/plain": [
       "array([  1,   2,   6,  24, 120, 720])"
      ]
     },
     "execution_count": 3,
     "metadata": {},
     "output_type": "execute_result"
    }
   ],
   "source": [
    "\"\"\"\n",
    "Replace pass with the code that uses ndarray, prod and cumprod to \n",
    "calculate the factorials of all values from 1 to n\n",
    "\n",
    "The function should take an integer as an argument and return an ndarray\n",
    "of size n \n",
    "\n",
    "\"\"\"\n",
    "\n",
    "def all_factorials(n):\n",
    "    arr1 = np.arange(1,n+1)\n",
    "    factorial_array = np.cumprod(arr1)\n",
    "    return factorial_array\n",
    "\n",
    "all_factorials(6)"
   ]
  },
  {
   "cell_type": "markdown",
   "metadata": {},
   "source": [
    "<h1>Problem 2: Percent changes</h1>\n",
    "Write a function that constructs an ndarray from data in a file and \n",
    "returns a 1-period percent change on an ndarray after removing any nan values. Your function must make use of the following functions:\n",
    "<li>np.genfromtxt: https://docs.scipy.org/doc/numpy-1.13.0/reference/generated/numpy.genfromtxt.html\n",
    "<li>np.diff: https://docs.scipy.org/doc/numpy-1.13.0/reference/generated/numpy.diff.html\n",
    "<li>np.isnan: https://docs.scipy.org/doc/numpy-1.13.0/reference/generated/numpy.isnan.html\n",
    "\n",
    "<p>Test your function out using the attached apple.csv file. Your function can assume that the file structure is (date,price)\n",
    "\n",
    "<p>Note that percent change is defined as (p(t)-p(t-1))/p(t-1)\n",
    "\n",
    "<b>Example:</b><br>\n",
    "If the data array is: np.array([1,2,np.NaN,4,8,np.NAN])\n",
    "<br>\n",
    "The output array should be<br>\n",
    "array([ 1.,  1.,  1.])\n"
   ]
  },
  {
   "cell_type": "code",
   "execution_count": 4,
   "metadata": {},
   "outputs": [
    {
     "data": {
      "text/plain": [
       "array([-0.01253447, -0.00520435,  0.03185746, -0.00094815, -0.00070372,\n",
       "       -0.008285  , -0.00664159, -0.00063073, -0.00042079, -0.01279674,\n",
       "       -0.00260106, -0.0085503 , -0.00733042, -0.00894841,  0.00078899,\n",
       "        0.00398547, -0.00588905,  0.00438808,  0.02922803,  0.00772558,\n",
       "       -0.00867733])"
      ]
     },
     "execution_count": 4,
     "metadata": {},
     "output_type": "execute_result"
    }
   ],
   "source": [
    "def get_pct_changes(file_name):\n",
    "    arr = np.genfromtxt(file_name, delimiter=\",\")\n",
    "    arr = arr[:,1]\n",
    "    arr = arr[~np.isnan(arr)]\n",
    "    difference = np.diff(arr)\n",
    "    pct_change = np.repeat(0.0, len(difference))\n",
    "    for i in range(0, len(pct_change)):\n",
    "        pct_change[i] = difference[i]/arr[i]\n",
    "    return pct_change\n",
    "    \n",
    "get_pct_changes('Class 4 - GS.csv')"
   ]
  },
  {
   "cell_type": "code",
   "execution_count": 5,
   "metadata": {
    "scrolled": true
   },
   "outputs": [
    {
     "data": {
      "text/plain": [
       "array([-0.01253447, -0.00520435,  0.03185746, -0.00094815, -0.00070372,\n",
       "       -0.008285  , -0.00664159, -0.00063073, -0.00042079, -0.01279674,\n",
       "       -0.00260106, -0.0085503 , -0.00733042, -0.00894841,  0.00078899,\n",
       "        0.00398547, -0.00588905,  0.00438808,  0.02922803,  0.00772558,\n",
       "       -0.00867733])"
      ]
     },
     "execution_count": 5,
     "metadata": {},
     "output_type": "execute_result"
    }
   ],
   "source": [
    "get_pct_changes('Class 4 - GS.csv')"
   ]
  },
  {
   "cell_type": "markdown",
   "metadata": {},
   "source": [
    "<h1>Problem 3: Pandas Grouping</h1>\n",
    "Write a program that reads timeseries pricing data from a file into a pandas dataframe and then groups the data as follows:\n",
    "<li>Adds a column, one-day percent change to the file \n",
    "<li>Groups the data into four categories:\n",
    "<ul>\n",
    "<li>\"High+\" if the percent change is greater than 2.5%\n",
    "<li>\"Low+\" if the percent change is positive and less than or equal to 2.5% \n",
    "<li>\"Low-\" if the percent change is negative but greater than or equal to -2.5%\n",
    "<li>\"High-\" if the percent change is less than -2.5%\n",
    "</ul>\n",
    "<li>Report the size and the mean of each of the groups\n",
    "\n"
   ]
  },
  {
   "cell_type": "code",
   "execution_count": 6,
   "metadata": {},
   "outputs": [
    {
     "name": "stdout",
     "output_type": "stream",
     "text": [
      "High+     2\n",
      "Low+      4\n",
      "Low-     15\n",
      "dtype: int64\n",
      "        Adj Close  one-day percent change\n",
      "High+  238.689628                0.030543\n",
      "Low+   230.965000                0.004222\n",
      "Low-   235.148258               -0.006011\n"
     ]
    }
   ],
   "source": [
    "datafile = \"Class 4 - GS.csv\"\n",
    "import pandas as pd\n",
    "df = pd.read_csv('Class 4 - GS.csv', na_values='null')\n",
    "df_close = df['Adj Close']\n",
    "df['one-day percent change'] = np.repeat(0.0, len(df_close))\n",
    "df['one-day percent change'] = df_close.pct_change()\n",
    "\n",
    "def GroupColFunc(df, ind, col):\n",
    "    if df[col].loc[ind] > 0.025 and df[col].loc[ind] > 0:\n",
    "        return 'High+'\n",
    "    elif df[col].loc[ind] <= 0.025 and df[col].loc[ind] > 0:\n",
    "        return 'Low+'\n",
    "    elif df[col].loc[ind] >= -0.025:\n",
    "        return 'Low-'\n",
    "    elif df[col].loc[ind] < -0.025:\n",
    "        return 'High-'\n",
    "    \n",
    "grouped = df.groupby(lambda x: GroupColFunc(df, x, 'one-day percent change'))\n",
    "grouped\n",
    "print(grouped.size())\n",
    "print(grouped.mean())"
   ]
  },
  {
   "cell_type": "code",
   "execution_count": 7,
   "metadata": {
    "collapsed": true
   },
   "outputs": [],
   "source": [
    "def GroupColFunc(df, ind, col):\n",
    "    if df[col].loc[ind] > 0.025 and df[col].loc[ind] > 0:\n",
    "        return 'High+'\n",
    "    elif df[col].loc[ind] <= 0.025 and df[col].loc[ind] > 0:\n",
    "        return 'Low+'\n",
    "    elif df[col].loc[ind] >= -0.025:\n",
    "        return 'Low-'\n",
    "    elif df[col].loc[ind] < -0.025:\n",
    "        return 'High-'"
   ]
  },
  {
   "cell_type": "code",
   "execution_count": 8,
   "metadata": {},
   "outputs": [
    {
     "name": "stdout",
     "output_type": "stream",
     "text": [
      "High+     2\n",
      "Low+      4\n",
      "Low-     15\n",
      "dtype: int64\n",
      "        Adj Close  one-day percent change\n",
      "High+  238.689628                0.030543\n",
      "Low+   230.965000                0.004222\n",
      "Low-   235.148258               -0.006011\n"
     ]
    }
   ],
   "source": [
    "grouped = df.groupby(lambda x: GroupColFunc(df, x, 'one-day percent change'))\n",
    "grouped\n",
    "print(grouped.size())\n",
    "print(grouped.mean())"
   ]
  },
  {
   "cell_type": "code",
   "execution_count": null,
   "metadata": {
    "collapsed": true
   },
   "outputs": [],
   "source": []
  },
  {
   "cell_type": "code",
   "execution_count": null,
   "metadata": {
    "collapsed": true
   },
   "outputs": [],
   "source": []
  }
 ],
 "metadata": {
  "kernelspec": {
   "display_name": "Python 3",
   "language": "python",
   "name": "python3"
  },
  "language_info": {
   "codemirror_mode": {
    "name": "ipython",
    "version": 3
   },
   "file_extension": ".py",
   "mimetype": "text/x-python",
   "name": "python",
   "nbconvert_exporter": "python",
   "pygments_lexer": "ipython3",
   "version": "3.6.6"
  }
 },
 "nbformat": 4,
 "nbformat_minor": 2
}
